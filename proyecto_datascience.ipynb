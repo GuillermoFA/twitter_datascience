{
 "cells": [
  {
   "cell_type": "code",
   "execution_count": null,
   "id": "56e47496",
   "metadata": {},
   "outputs": [],
   "source": [
    "# Importación de librerías necesarias\n",
    "import pandas as pd\n",
    "import matplotlib.pyplot as plt\n",
    "from sklearn.feature_extraction.text import TfidfVectorizer\n",
    "from sklearn.cluster import KMeans\n",
    "from sklearn.metrics.pairwise import cosine_similarity\n",
    "from sklearn.metrics import silhouette_score\n",
    "from sklearn.decomposition import PCA"
   ]
  },
  {
   "cell_type": "code",
   "execution_count": null,
   "id": "028f7124",
   "metadata": {},
   "outputs": [],
   "source": [
    "# Configuración de visualización\n",
    "%matplotlib inline\n",
    "plt.style.use('ggplot')"
   ]
  },
  {
   "cell_type": "code",
   "execution_count": null,
   "id": "b06a6b73",
   "metadata": {},
   "outputs": [],
   "source": [
    "#Introducción\n",
    "print(\"Título del Proyecto: Caracterización de opiniones en redes sociales durante la pandemia COVID-19 en Chile\")\n",
    "print(\"Integrantes del Grupo: Guillermo Fuentes, Exequiel González, Andrea Saldaña\")\n"
   ]
  },
  {
   "cell_type": "code",
   "execution_count": null,
   "id": "3220333d",
   "metadata": {},
   "outputs": [],
   "source": [
    "# Resumen ejecutivo del proyecto\n",
    "#En este proyecto de ciencia de datos, se abordará la caracterización de opiniones \n",
    "#expresadas en las redes sociales durante el período de la pandemia de COVID-19 en \n",
    "#Chile, utilizando un conjunto de datos originales que contiene tweets emitidos entre \n",
    "#octubre de 2019 y noviembre de 2020. El objetivo principal es analizar y entender las \n",
    "#opiniones de la población chilena sobre eventos y políticas relacionadas con la \n",
    "#pandemia."
   ]
  },
  {
   "cell_type": "code",
   "execution_count": null,
   "id": "ac728aa4",
   "metadata": {},
   "outputs": [],
   "source": [
    "# Documentación y metodología\n",
    "# Descripción de cómo se recolectaron los datos, cómo se están preprocesando y cómo se planea modelar y analizar los datos."
   ]
  },
  {
   "cell_type": "code",
   "execution_count": null,
   "id": "b886fe36",
   "metadata": {},
   "outputs": [],
   "source": [
    "# Preprocesamiento de datos\n",
    "# Carga del conjunto de datos y preprocesamiento inicial.\n",
    "tweets_df = pd.read_csv('/path/to/your/csv/Clean_Tweets_01_2.csv')\n",
    "# Eliminación de ruido y normalización del texto.\n",
    "# [Aquí incluirías el código para la limpieza adicional de datos si es necesario]"
   ]
  },
  {
   "cell_type": "code",
   "execution_count": null,
   "id": "89bd9fda",
   "metadata": {},
   "outputs": [],
   "source": [
    "# Representación de los tweets (TF-IDF)\n",
    "# Transformación del texto de los tweets a una forma numérica usando TF-IDF.\n",
    "tfidf_vectorizer = TfidfVectorizer()\n",
    "tfidf_matrix = tfidf_vectorizer.fit_transform(tweets_df['clean_tweet'])\n",
    "# [El código asume que 'clean_tweet' es la columna con los tweets preprocesados]"
   ]
  },
  {
   "cell_type": "code",
   "execution_count": null,
   "id": "0725ad81",
   "metadata": {},
   "outputs": [],
   "source": [
    "# Identificación de grupos de opiniones (K-Means)\n",
    "# Cálculo de la similitud del coseno entre tweets para la identificación de grupos de opiniones.\n",
    "cosine_sim_matrix = cosine_similarity(tfidf_matrix)"
   ]
  },
  {
   "cell_type": "code",
   "execution_count": null,
   "id": "6aff0936",
   "metadata": {},
   "outputs": [],
   "source": [
    "# Uso de K-Means para agrupar tweets similares basados en la similitud del coseno.\n",
    "num_clusters = 5  # Número de clústeres elegido basado en el método del codo o la silueta.\n",
    "kmeans = KMeans(n_clusters=num_clusters, random_state=42)\n",
    "kmeans.fit(tfidf_matrix)\n",
    "tweets_df['cluster'] = kmeans.labels_"
   ]
  },
  {
   "cell_type": "code",
   "execution_count": null,
   "id": "ab03bb74",
   "metadata": {},
   "outputs": [],
   "source": [
    "# Análisis de resultados\n",
    "# Evaluación de los clústeres usando la métrica de la silueta.\n",
    "silhouette_avg = silhouette_score(tfidf_matrix, tweets_df['cluster'])\n",
    "print(f\"Silhouette Coefficient: {silhouette_avg}\")"
   ]
  },
  {
   "cell_type": "code",
   "execution_count": null,
   "id": "64d2da7b",
   "metadata": {},
   "outputs": [],
   "source": [
    "# Visualizaciones de soporte para el análisis\n",
    "# Reducción de dimensionalidad para la visualización de clústeres.\n",
    "pca = PCA(n_components=2)\n",
    "pca_result = pca.fit_transform(tfidf_matrix.toarray())\n",
    "tweets_df['x'] = pca_result[:,0]\n",
    "tweets_df['y'] = pca_result[:,1]"
   ]
  },
  {
   "cell_type": "code",
   "execution_count": null,
   "id": "2fa934c6",
   "metadata": {},
   "outputs": [],
   "source": [
    "# Gráfico de dispersión de los clústeres.\n",
    "plt.figure(figsize=(10,10))\n",
    "plt.scatter(tweets_df['x'], tweets_df['y'], c=tweets_df['cluster'], cmap='viridis', alpha=0.5)\n",
    "plt.title('Visualización de Clústeres con PCA')\n",
    "plt.xlabel('Componente Principal 1')\n",
    "plt.ylabel('Componente Principal 2')\n",
    "plt.colorbar()\n",
    "plt.show()"
   ]
  },
  {
   "cell_type": "code",
   "execution_count": null,
   "id": "ddf93bc5",
   "metadata": {},
   "outputs": [],
   "source": [
    "# Resumen ejecutivo y avance de objetivos\n",
    "#En este proyecto de ciencia de datos, se abordará la caracterización de opiniones \n",
    "#expresadas en las redes sociales durante el período de la pandemia de COVID-19 en \n",
    "#Chile, utilizando un conjunto de datos originales que contiene tweets emitidos entre \n",
    "#octubre de 2019 y noviembre de 2020. El objetivo principal es analizar y entender las \n",
    "#opiniones de la población chilena sobre eventos y políticas relacionadas con la \n",
    "#pandemia."
   ]
  },
  {
   "cell_type": "code",
   "execution_count": null,
   "id": "438f808e",
   "metadata": {},
   "outputs": [],
   "source": [
    "# Conclusión y próximos pasos\n",
    "# [Resumir los hallazgos principales y discutir los próximos pasos del proyecto]"
   ]
  }
 ],
 "metadata": {
  "kernelspec": {
   "display_name": "Python 3 (ipykernel)",
   "language": "python",
   "name": "python3"
  },
  "language_info": {
   "codemirror_mode": {
    "name": "ipython",
    "version": 3
   },
   "file_extension": ".py",
   "mimetype": "text/x-python",
   "name": "python",
   "nbconvert_exporter": "python",
   "pygments_lexer": "ipython3",
   "version": "3.11.4"
  }
 },
 "nbformat": 4,
 "nbformat_minor": 5
}
