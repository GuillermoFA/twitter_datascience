{
 "cells": [
  {
   "cell_type": "code",
   "execution_count": 1,
   "metadata": {},
   "outputs": [
    {
     "data": {
      "text/plain": [
       "['y', 'asi', 'fue', 'com', 'se', 'logr', 'resolv', 'el', 'cas', '.']"
      ]
     },
     "execution_count": 1,
     "metadata": {},
     "output_type": "execute_result"
    }
   ],
   "source": [
    "from nltk import word_tokenize\n",
    "from nltk.stem import SnowballStemmer\n",
    "stemmer = SnowballStemmer('spanish')\n",
    "text = 'Y así fue como se logró resolver el caso.'\n",
    "stemmed_text = [stemmer.stem(i) for i in word_tokenize(text)]\n",
    "stemmed_text"
   ]
  },
  {
   "cell_type": "code",
   "execution_count": 2,
   "metadata": {},
   "outputs": [
    {
     "name": "stdout",
     "output_type": "stream",
     "text": [
      "cas\n",
      "cas\n",
      "casc\n",
      "casc\n",
      "cascabel\n"
     ]
    }
   ],
   "source": [
    "print(stemmer.stem('casa'))\n",
    "print(stemmer.stem('caso'))\n",
    "print(stemmer.stem('casco'))\n",
    "print(stemmer.stem('cascada'))\n",
    "print(stemmer.stem('cascabel'))"
   ]
  },
  {
   "cell_type": "code",
   "execution_count": null,
   "metadata": {},
   "outputs": [],
   "source": [
    "def recopilarPalabras(nombre_archivo):\n",
    "    tweet_df = pd.read_csv(nombre_archivo, index_col=0)\n",
    "    lista_palabras = []\n",
    "    lista_palabras.clear()\n",
    "    for tweet in tweet_df['clean_tweet']:\n",
    "        palabras = tweet.split(\",\")\n",
    "        for palabra in palabras:\n",
    "            palabra = palabra.replace(\"'\", \"\");\n",
    "            palabra = palabra.replace(\" \", \"\");\n",
    "            palabra = palabra.replace(\"[\", \"\");\n",
    "            palabra = palabra.replace(\"]\", \"\");\n",
    "            lista_palabras.append(palabra)\n",
    "    return lista_palabras"
   ]
  }
 ],
 "metadata": {
  "kernelspec": {
   "display_name": "Python 3",
   "language": "python",
   "name": "python3"
  },
  "language_info": {
   "codemirror_mode": {
    "name": "ipython",
    "version": 3
   },
   "file_extension": ".py",
   "mimetype": "text/x-python",
   "name": "python",
   "nbconvert_exporter": "python",
   "pygments_lexer": "ipython3",
   "version": "3.8.3"
  }
 },
 "nbformat": 4,
 "nbformat_minor": 4
}
