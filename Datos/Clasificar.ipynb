{
 "cells": [
  {
   "cell_type": "code",
   "execution_count": 1,
   "metadata": {},
   "outputs": [],
   "source": [
    "from nltk import FreqDist\n",
    "import pandas as pd\n",
    "\n",
    "def obtenerPalabrasModelo(nombre_archivo, tag, positive, min_largo, min_intensidad, clase):\n",
    "  tweet_df = pd.read_csv(nombre_archivo, index_col=0)\n",
    "  lista_tokens = []\n",
    "  lista_tokens.clear()\n",
    "  lista_palabras = []\n",
    "  lista_palabras.clear()\n",
    "  for tweet, etiqueta, cl in zip(tweet_df['clean_tweet'], tweet_df[tag], tweet_df[clase]):\n",
    "    if cl == 'Positivo' or cl == 'Negativo':\n",
    "      lista_palabras = []\n",
    "      etiqueta = etiqueta.split(\",\")\n",
    "      tags = []\n",
    "      tags.clear()\n",
    "      for valor in etiqueta:\n",
    "        valor = valor.replace(\" \", \"\");\n",
    "        valor = valor.replace(\"[\", \"\");\n",
    "        valor = valor.replace(\"]\", \"\");\n",
    "        tags.append(valor)\n",
    "      tokens = int(tags[2])\n",
    "      if tokens >= min_largo:\n",
    "        if (positive and tags[0]>tags[1]) or ((not positive) and tags[0]<tags[1]):\n",
    "          porcentaje = 0\n",
    "          if positive:\n",
    "            porcentaje = (int(tags[0])/tokens)*100\n",
    "          else:\n",
    "            porcentaje = (int(tags[1])/tokens)*100\n",
    "          if porcentaje >= min_intensidad:\n",
    "            palabras = tweet.split(\",\")\n",
    "            for palabra in palabras:\n",
    "              palabra = palabra.replace(\"'\", \"\");\n",
    "              palabra = palabra.replace(\" \", \"\");\n",
    "              palabra = palabra.replace(\"[\", \"\");\n",
    "              palabra = palabra.replace(\"]\", \"\");\n",
    "              lista_palabras.append(palabra)\n",
    "            if len(lista_palabras) > 0:\n",
    "              lista_tokens.append(lista_palabras)\n",
    "  return lista_tokens\n",
    "\n",
    "tags = ['clean_tag','lemma_tag']\n",
    "clase = ['clean_class','lemma_class']\n",
    "archivo_base = 'Tweets-2'\n",
    "pos = 0\n",
    "min_largo = 0\n",
    "min_intensidad = 0\n",
    "palabras_positivas_recopiladas = []\n",
    "palabras_positivas_recopiladas.clear()\n",
    "palabras_negativas_recopiladas = []\n",
    "palabras_negativas_recopiladas.clear()\n",
    "archivo_base = archivo_base + '.csv'\n",
    "palabras_positivas_recopiladas = obtenerPalabrasModelo(archivo_base, tags[pos], True, min_largo, min_intensidad, clase[pos])\n",
    "palabras_negativas_recopiladas = obtenerPalabrasModelo(archivo_base, tags[pos], False, min_largo, min_intensidad, clase[pos])"
   ]
  },
  {
   "cell_type": "code",
   "execution_count": 2,
   "metadata": {},
   "outputs": [
    {
     "name": "stdout",
     "output_type": "stream",
     "text": [
      "<generator object get_all_words at 0x0000015B328BEC10>\n"
     ]
    }
   ],
   "source": [
    "def get_all_words(cleaned_tokens_list):\n",
    "    for tokens in cleaned_tokens_list:\n",
    "        for token in tokens:\n",
    "            yield token\n",
    "\n",
    "all_pos_words = get_all_words(palabras_positivas_recopiladas)\n",
    "all_neg_words = get_all_words(palabras_negativas_recopiladas)\n",
    "print(all_pos_words)\n",
    "        \n",
    "freq_dist_pos = FreqDist(all_pos_words)\n",
    "#print(\"Palabras Positivas mas Frecuentes\")\n",
    "list_popular_pos = freq_dist_pos.most_common(50)\n",
    "#print(list_popular_pos)\n",
    "#print(\"\")\n",
    "freq_dist_neg = FreqDist(all_neg_words)\n",
    "#print(\"Palabras Negativas mas Frecuentes\")\n",
    "list_popular_neg = freq_dist_neg.most_common(50)\n",
    "#print(list_popular_neg)\n",
    "#print(\"\")"
   ]
  },
  {
   "cell_type": "code",
   "execution_count": 24,
   "metadata": {},
   "outputs": [],
   "source": [
    "lista_pos_bigramas = []\n",
    "for palabras in palabras_positivas_recopiladas[:5000]:\n",
    "    bigramas = []\n",
    "    bigramas.clear()\n",
    "    for palabra in palabras:\n",
    "        if len(bigramas) == 0:\n",
    "            bigramas.append(' ' + palabra)\n",
    "            anterior = palabra\n",
    "            continue\n",
    "        else:\n",
    "            bigramas.append(anterior + ' ' + palabra)\n",
    "            anterior = palabra\n",
    "    bigramas.append(palabra + ' ')\n",
    "    lista_pos_bigramas.append(bigramas)\n",
    "\n",
    "lista_neg_bigramas = []\n",
    "for palabras in palabras_negativas_recopiladas[:5000]:\n",
    "    bigramas = []\n",
    "    bigramas.clear()\n",
    "    for palabra in palabras:\n",
    "        if len(bigramas) == 0:\n",
    "            bigramas.append(' ' + palabra)\n",
    "            anterior = palabra\n",
    "            continue\n",
    "        else:\n",
    "            bigramas.append(anterior + ' ' + palabra)\n",
    "            anterior = palabra\n",
    "    bigramas.append(palabra + ' ')\n",
    "    lista_neg_bigramas.append(bigramas)\n",
    "\n",
    "all_bi_pos_words = get_all_words(lista_pos_bigramas)\n",
    "all_bi_neg_words = get_all_words(lista_neg_bigramas)\n",
    "    \n",
    "freq_dist_bi_pos = FreqDist(all_bi_pos_words)\n",
    "#print(\"Par de Palabras Positivas mas Frecuentes\")\n",
    "list_popular_bi_pos = freq_dist_bi_pos.most_common(50)\n",
    "#print(lista_popular_bi_pos)\n",
    "#print(\"\")\n",
    "freq_dist_bi_neg = FreqDist(all_bi_neg_words)\n",
    "#print(\"Par de Palabras Negativas mas Frecuentes\")\n",
    "list_popular_bi_neg = freq_dist_bi_neg.most_common(50)\n",
    "#print(lista_popular_bi_neg)"
   ]
  },
  {
   "cell_type": "code",
   "execution_count": 25,
   "metadata": {},
   "outputs": [],
   "source": [
    "tuplas = []\n",
    "tuplas.clear()\n",
    "for i in range(50):\n",
    "    tuplas.append([str(i+1),list_popular_pos[i],list_popular_neg[i],list_popular_bi_pos[i],list_popular_bi_neg[i]])\n",
    "df = pd.DataFrame(tuplas, columns = ['indice','unigrama_pos', 'unigrama_neg', 'bigrama_pos', 'bigrama_neg'])  \n",
    "df.to_csv('Hashtags.csv', index=True, header=True)"
   ]
  },
  {
   "cell_type": "code",
   "execution_count": 2,
   "metadata": {},
   "outputs": [],
   "source": [
    "def get_tweets_for_model(cleaned_tokens_list):\n",
    "    for tweet_tokens in cleaned_tokens_list:\n",
    "        yield dict([token, True] for token in tweet_tokens)\n",
    "\n",
    "from nltk.tokenize import RegexpTokenizer\n",
    "tokenizer = RegexpTokenizer(r'\\w+')\n",
    "\n",
    "positive_tokens_for_model = get_tweets_for_model(palabras_positivas_recopiladas)\n",
    "negative_tokens_for_model = get_tweets_for_model(palabras_negativas_recopiladas)"
   ]
  },
  {
   "cell_type": "code",
   "execution_count": 3,
   "metadata": {},
   "outputs": [],
   "source": [
    "import random\n",
    "random.seed(999)\n",
    "\n",
    "positive_tag = [(tweet_dict, \"Positive\")\n",
    "                     for tweet_dict in palabras_positivas_recopiladas]\n",
    "negative_tag = [(tweet_dict, \"Negative\")\n",
    "                     for tweet_dict in palabras_negativas_recopiladas]\n",
    "\n",
    "tags = positive_tag + negative_tag\n",
    "random.shuffle(tags)\n",
    "corte = int(len(tags)*0.7)\n",
    "train = tags[corte:]\n",
    "test = tags[:corte]"
   ]
  },
  {
   "cell_type": "code",
   "execution_count": 4,
   "metadata": {},
   "outputs": [],
   "source": [
    "x_train =[]\n",
    "x_train.clear()\n",
    "y_train =[]\n",
    "y_train.clear()\n",
    "for data in train:\n",
    "    text = ''\n",
    "    for d in data[0]:\n",
    "        if text == '':\n",
    "            text += d\n",
    "        else:\n",
    "            text += ' ' + d    \n",
    "    x_train.append(text)\n",
    "    y_train.append(data[1])    \n",
    "\n",
    "x_test =[]\n",
    "x_test.clear()\n",
    "y_test =[]\n",
    "y_test.clear()\n",
    "for data in test:\n",
    "    text = ''\n",
    "    for d in data[0]:\n",
    "        if text == '':\n",
    "            text += d\n",
    "        else:\n",
    "            text += ' ' + d  \n",
    "    x_test.append(text)\n",
    "    y_test.append(data[1])"
   ]
  },
  {
   "cell_type": "code",
   "execution_count": 5,
   "metadata": {},
   "outputs": [],
   "source": [
    "from sklearn.naive_bayes import MultinomialNB\n",
    "from sklearn.tree import DecisionTreeClassifier\n",
    "from sklearn.linear_model import LogisticRegression\n",
    "from sklearn.svm import SVC\n",
    "from sklearn.neural_network import MLPClassifier\n",
    "from sklearn import metrics\n",
    "from sklearn.feature_extraction.text import CountVectorizer"
   ]
  },
  {
   "cell_type": "code",
   "execution_count": 6,
   "metadata": {},
   "outputs": [],
   "source": [
    "vectorizer = CountVectorizer(min_df=0, lowercase=False)\n",
    "vectorizer.fit(x_train)\n",
    "vectorizer.vocabulary_\n",
    "# vectorizer.transform(x_train).toarray()\n",
    "estadisticos = [\"Precision\", \"Recall\", \"F-Measure\", \"Clasificaciones\"]"
   ]
  },
  {
   "cell_type": "code",
   "execution_count": null,
   "metadata": {},
   "outputs": [],
   "source": [
    "NBC = MultinomialNB()\n",
    "NBC.fit(vectorizer.transform(x_train).toarray(),y_train)\n",
    "y_pred = NBC.predict(vectorizer.transform(x_test).toarray())\n",
    "print(\"Estadisticos\")\n",
    "print(\"Accuracy:\",metrics.accuracy_score(y_test, y_pred))\n",
    "results = metrics.precision_recall_fscore_support(y_test, y_pred)\n",
    "i = 0\n",
    "for res in results:\n",
    "    print(estadisticos[i] + \": \" + str(res))\n",
    "    i = i+1"
   ]
  },
  {
   "cell_type": "code",
   "execution_count": null,
   "metadata": {},
   "outputs": [],
   "source": [
    "clf = DecisionTreeClassifier(criterion=\"entropy\", max_depth=3)\n",
    "clf.fit(vectorizer.transform(x_train).toarray(),y_train)\n",
    "y_pred = clf.predict(vectorizer.transform(x_test).toarray())\n",
    "print(\"Estadisticos\")\n",
    "print(\"Accuracy:\",metrics.accuracy_score(y_test, y_pred))\n",
    "results = metrics.precision_recall_fscore_support(y_test, y_pred)\n",
    "i = 0\n",
    "for res in results:\n",
    "    print(estadisticos[i] + \": \" + str(res))\n",
    "    i = i+1"
   ]
  },
  {
   "cell_type": "code",
   "execution_count": null,
   "metadata": {},
   "outputs": [],
   "source": [
    "LogisticRegression_classifier = LogisticRegression()\n",
    "LogisticRegression_classifier.fit(vectorizer.transform(x_train).toarray(),y_train)\n",
    "y_pred = LogisticRegression_classifier.predict(vectorizer.transform(x_test).toarray())\n",
    "print(\"Estadisticos\")\n",
    "print(\"Accuracy:\",metrics.accuracy_score(y_test, y_pred))\n",
    "results = metrics.precision_recall_fscore_support(y_test, y_pred)\n",
    "i = 0\n",
    "for res in results:\n",
    "    print(estadisticos[i] + \": \" + str(res))\n",
    "    i = i+1"
   ]
  },
  {
   "cell_type": "code",
   "execution_count": null,
   "metadata": {
    "scrolled": true
   },
   "outputs": [],
   "source": [
    "SVC_classifier = SVC(max_iter=100)\n",
    "SVC_classifier.fit(vectorizer.transform(x_train).toarray(),y_train)\n",
    "y_pred = SVC_classifier.predict(vectorizer.transform(x_test).toarray())\n",
    "print(\"Estadisticos\")\n",
    "print(\"Accuracy:\",metrics.accuracy_score(y_test, y_pred))\n",
    "results = metrics.precision_recall_fscore_support(y_test, y_pred)\n",
    "i = 0\n",
    "for res in results:\n",
    "    print(estadisticos[i] + \": \" + str(res))\n",
    "    i = i+1"
   ]
  },
  {
   "cell_type": "code",
   "execution_count": 7,
   "metadata": {},
   "outputs": [
    {
     "name": "stderr",
     "output_type": "stream",
     "text": [
      "C:\\Users\\pablo\\anaconda3\\lib\\site-packages\\sklearn\\neural_network\\_multilayer_perceptron.py:582: ConvergenceWarning: Stochastic Optimizer: Maximum iterations (100) reached and the optimization hasn't converged yet.\n",
      "  warnings.warn(\n"
     ]
    },
    {
     "name": "stdout",
     "output_type": "stream",
     "text": [
      "Estadisticos\n",
      "Accuracy: 0.6678196780611322\n",
      "Precision: [0.67335711 0.66340135]\n",
      "Recall: [0.61481929 0.71794308]\n",
      "F-Measure: [0.64275815 0.68959544]\n",
      "Clasificaciones: [21499 22733]\n"
     ]
    }
   ],
   "source": [
    "from sklearn.neural_network import MLPClassifier\n",
    "clf = MLPClassifier(hidden_layer_sizes=(2, 2), random_state=1, max_iter=100)\n",
    "clf.fit(vectorizer.transform(x_train).toarray(), y_train)\n",
    "y_pred = clf.predict(vectorizer.transform(x_test).toarray())\n",
    "print(\"Estadisticos\")\n",
    "print(\"Accuracy:\",metrics.accuracy_score(y_test, y_pred))\n",
    "results = metrics.precision_recall_fscore_support(y_test, y_pred)\n",
    "i = 0\n",
    "for res in results:\n",
    "    print(estadisticos[i] + \": \" + str(res))\n",
    "    i = i+1"
   ]
  }
 ],
 "metadata": {
  "kernelspec": {
   "display_name": "Python 3",
   "language": "python",
   "name": "python3"
  },
  "language_info": {
   "codemirror_mode": {
    "name": "ipython",
    "version": 3
   },
   "file_extension": ".py",
   "mimetype": "text/x-python",
   "name": "python",
   "nbconvert_exporter": "python",
   "pygments_lexer": "ipython3",
   "version": "3.8.3"
  }
 },
 "nbformat": 4,
 "nbformat_minor": 4
}
